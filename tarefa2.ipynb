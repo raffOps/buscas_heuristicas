{
 "cells": [
  {
   "cell_type": "code",
   "execution_count": 317,
   "id": "9a23bed7",
   "metadata": {},
   "outputs": [
    {
     "name": "stderr",
     "output_type": "stream",
     "text": [
      "\u001b[32m\u001b[1m   Resolving\u001b[22m\u001b[39m package versions...\n",
      "\u001b[32m\u001b[1m  No Changes\u001b[22m\u001b[39m to `/opt/julia/environments/v1.7/Project.toml`\n",
      "\u001b[32m\u001b[1m  No Changes\u001b[22m\u001b[39m to `/opt/julia/environments/v1.7/Manifest.toml`\n",
      "\u001b[32m\u001b[1m   Resolving\u001b[22m\u001b[39m package versions...\n",
      "\u001b[32m\u001b[1m   Installed\u001b[22m\u001b[39m CodecZlib ────────── v0.7.0\n",
      "\u001b[32m\u001b[1m   Installed\u001b[22m\u001b[39m FilePathsBase ────── v0.9.17\n",
      "\u001b[32m\u001b[1m   Installed\u001b[22m\u001b[39m SentinelArrays ───── v1.3.12\n",
      "\u001b[32m\u001b[1m   Installed\u001b[22m\u001b[39m WeakRefStrings ───── v1.4.1\n",
      "\u001b[32m\u001b[1m   Installed\u001b[22m\u001b[39m InlineStrings ────── v1.1.2\n",
      "\u001b[32m\u001b[1m   Installed\u001b[22m\u001b[39m TranscodingStreams ─ v0.9.6\n",
      "\u001b[32m\u001b[1m   Installed\u001b[22m\u001b[39m CSV ──────────────── v0.10.2\n",
      "\u001b[32m\u001b[1m    Updating\u001b[22m\u001b[39m `/opt/julia/environments/v1.7/Project.toml`\n",
      " \u001b[90m [336ed68f] \u001b[39m\u001b[92m+ CSV v0.10.2\u001b[39m\n",
      "\u001b[32m\u001b[1m    Updating\u001b[22m\u001b[39m `/opt/julia/environments/v1.7/Manifest.toml`\n",
      " \u001b[90m [336ed68f] \u001b[39m\u001b[92m+ CSV v0.10.2\u001b[39m\n",
      " \u001b[90m [944b1d66] \u001b[39m\u001b[92m+ CodecZlib v0.7.0\u001b[39m\n",
      " \u001b[90m [48062228] \u001b[39m\u001b[92m+ FilePathsBase v0.9.17\u001b[39m\n",
      " \u001b[90m [842dd82b] \u001b[39m\u001b[92m+ InlineStrings v1.1.2\u001b[39m\n",
      " \u001b[90m [91c51154] \u001b[39m\u001b[92m+ SentinelArrays v1.3.12\u001b[39m\n",
      " \u001b[90m [3bb67fe8] \u001b[39m\u001b[92m+ TranscodingStreams v0.9.6\u001b[39m\n",
      " \u001b[90m [ea10d353] \u001b[39m\u001b[92m+ WeakRefStrings v1.4.1\u001b[39m\n",
      "\u001b[32m\u001b[1mPrecompiling\u001b[22m\u001b[39m project...\n",
      "\u001b[32m  ✓ \u001b[39m\u001b[90mTranscodingStreams\u001b[39m\n",
      "\u001b[32m  ✓ \u001b[39m\u001b[90mInlineStrings\u001b[39m\n",
      "\u001b[32m  ✓ \u001b[39m\u001b[90mCodecZlib\u001b[39m\n",
      "\u001b[32m  ✓ \u001b[39m\u001b[90mSentinelArrays\u001b[39m\n",
      "\u001b[32m  ✓ \u001b[39m\u001b[90mFilePathsBase\u001b[39m\n",
      "\u001b[32m  ✓ \u001b[39m\u001b[90mWeakRefStrings\u001b[39m\n",
      "\u001b[32m  ✓ \u001b[39mCSV\n",
      "  7 dependencies successfully precompiled in 10 seconds (40 already precompiled)\n",
      "\u001b[32m\u001b[1m   Resolving\u001b[22m\u001b[39m package versions...\n",
      "\u001b[32m\u001b[1m  No Changes\u001b[22m\u001b[39m to `/opt/julia/environments/v1.7/Project.toml`\n",
      "\u001b[32m\u001b[1m  No Changes\u001b[22m\u001b[39m to `/opt/julia/environments/v1.7/Manifest.toml`\n"
     ]
    }
   ],
   "source": [
    "using Pkg\n",
    "Pkg.add(\"DataFrames\")\n",
    "Pkg.add(\"CSV\")\n",
    "Pkg.add(\"TickTock\")"
   ]
  },
  {
   "cell_type": "code",
   "execution_count": 333,
   "id": "75f25db3",
   "metadata": {},
   "outputs": [],
   "source": [
    "using Random\n",
    "using DataFrames\n",
    "using Statistics\n",
    "using CSV\n",
    "using TickTock"
   ]
  },
  {
   "cell_type": "code",
   "execution_count": 19,
   "id": "e4dc7237",
   "metadata": {},
   "outputs": [
    {
     "data": {
      "text/plain": [
       "get_permutacoes (generic function with 1 method)"
      ]
     },
     "execution_count": 19,
     "metadata": {},
     "output_type": "execute_result"
    }
   ],
   "source": [
    "function get_instancia(n)\n",
    "    return rand(1:100, n)\n",
    "end\n",
    "\n",
    "function get_permutacoes(instancia)\n",
    "    return [shuffle(instancia) for _=1:20]\n",
    "end"
   ]
  },
  {
   "cell_type": "code",
   "execution_count": 272,
   "id": "238365be",
   "metadata": {},
   "outputs": [
    {
     "data": {
      "text/plain": [
       "get_vizinhos_one_flip (generic function with 2 methods)"
      ]
     },
     "execution_count": 272,
     "metadata": {},
     "output_type": "execute_result"
    }
   ],
   "source": [
    "function get_custo(instancia, tamanho, custo_total)\n",
    "    if tamanho == 1\n",
    "        return instancia[tamanho], 0\n",
    "    else\n",
    "        espera, custo_total = get_custo(instancia[1:tamanho-1], tamanho-1, custo_total)\n",
    "        custo = instancia[tamanho] + espera\n",
    "        return custo, custo_total + custo\n",
    "    end\n",
    "end\n",
    "\n",
    "function get_vizinhos_one_flip(solucao, tamanho)\n",
    "    vizinhos = Vector()\n",
    "    for indice in 1:tamanho-1\n",
    "        vizinho = copy(solucao)\n",
    "        vizinho[indice], vizinho[indice+1] = solucao[indice+1], solucao[indice]\n",
    "        push!(vizinhos, vizinho)\n",
    "    end\n",
    "    vizinho = copy(solucao)\n",
    "    vizinho[1], vizinho[tamanho] = solucao[tamanho], solucao[1]\n",
    "    push!(vizinhos, vizinho)\n",
    "    return vizinhos\n",
    "end"
   ]
  },
  {
   "cell_type": "code",
   "execution_count": 264,
   "id": "1f739d87",
   "metadata": {},
   "outputs": [
    {
     "data": {
      "text/plain": [
       "get_melhor_vizinho (generic function with 1 method)"
      ]
     },
     "execution_count": 264,
     "metadata": {},
     "output_type": "execute_result"
    }
   ],
   "source": [
    "function get_melhor_vizinho(vizinhos, is_first_improved, menor_custo, melhor_solucao, tamanho)\n",
    "    for vizinho in vizinhos\n",
    "        _, custo = get_custo(vizinho, tamanho, 0)\n",
    "        if custo < menor_custo\n",
    "            menor_custo = custo\n",
    "            melhor_solucao = vizinho\n",
    "            if is_first_improved\n",
    "                break\n",
    "            end\n",
    "        end\n",
    "    end\n",
    "    return melhor_solucao, menor_custo\n",
    "end"
   ]
  },
  {
   "cell_type": "code",
   "execution_count": 325,
   "id": "d4eab068",
   "metadata": {},
   "outputs": [
    {
     "name": "stderr",
     "output_type": "stream",
     "text": [
      "┌ Info:  started timer at: 2022-02-28T19:57:18.640\n",
      "└ @ TickTock /opt/julia/packages/TickTock/RsTHR/src/TickTock.jl:32\n",
      "┌ Info:  started timer at: 2022-02-28T19:57:18.682\n",
      "└ @ TickTock /opt/julia/packages/TickTock/RsTHR/src/TickTock.jl:32\n",
      "┌ Info:  started timer at: 2022-02-28T19:57:18.847\n",
      "└ @ TickTock /opt/julia/packages/TickTock/RsTHR/src/TickTock.jl:32\n",
      "┌ Info:  started timer at: 2022-02-28T19:57:19.124\n",
      "└ @ TickTock /opt/julia/packages/TickTock/RsTHR/src/TickTock.jl:32\n",
      "┌ Info:  started timer at: 2022-02-28T19:57:19.563\n",
      "└ @ TickTock /opt/julia/packages/TickTock/RsTHR/src/TickTock.jl:32\n",
      "┌ Info:  started timer at: 2022-02-28T19:57:20.059\n",
      "└ @ TickTock /opt/julia/packages/TickTock/RsTHR/src/TickTock.jl:32\n",
      "┌ Info:  started timer at: 2022-02-28T19:57:20.450\n",
      "└ @ TickTock /opt/julia/packages/TickTock/RsTHR/src/TickTock.jl:32\n",
      "┌ Info:  started timer at: 2022-02-28T19:57:23.062\n",
      "└ @ TickTock /opt/julia/packages/TickTock/RsTHR/src/TickTock.jl:32\n",
      "┌ Info:  started timer at: 2022-02-28T19:57:30.426\n",
      "└ @ TickTock /opt/julia/packages/TickTock/RsTHR/src/TickTock.jl:32\n",
      "┌ Info:  started timer at: 2022-02-28T19:57:42.837\n",
      "└ @ TickTock /opt/julia/packages/TickTock/RsTHR/src/TickTock.jl:32\n"
     ]
    }
   ],
   "source": [
    "resultados = []\n",
    "for is_first_improved in [true, false]\n",
    "    if is_first_improved\n",
    "        alg = \"FI\"\n",
    "    else\n",
    "        alg = \"BI\"\n",
    "    end\n",
    "    for n in [100, 200, 300, 400, 500]\n",
    "        tick()\n",
    "        instancia_inicial = get_instancia(n)\n",
    "        permutacoes_iniciais = get_permutacoes(instancia_inicial)\n",
    "        solucao_inicial = Nothing\n",
    "        menor_custo = 99999999999\n",
    "        solucao_inicial, menor_custo = get_melhor_vizinho(permutacoes_iniciais, is_first_improved, \n",
    "                                        menor_custo, solucao_inicial, n)\n",
    "        solucao = solucao_inicial\n",
    "        for iteracao in 1:100\n",
    "            vizinhos = get_vizinhos_one_flip(solucao, n)\n",
    "            solucao, menor_custo = get_melhor_vizinho(vizinhos, is_first_improved, menor_custo, solucao, n)\n",
    "        end\n",
    "        tempo = tok()\n",
    "        push!(resultados, tuple(alg, n, 20, round(tempo, digits=2), \"NA\", menor_custo))\n",
    "    end\n",
    "end"
   ]
  },
  {
   "cell_type": "code",
   "execution_count": 326,
   "id": "4e922346",
   "metadata": {},
   "outputs": [
    {
     "data": {
      "text/html": [
       "<div class=\"data-frame\"><p>10 rows × 6 columns</p><table class=\"data-frame\"><thead><tr><th></th><th>alg</th><th>n</th><th>no</th><th>time</th><th>iterations</th><th>value</th></tr><tr><th></th><th title=\"String\">String</th><th title=\"Int64\">Int64</th><th title=\"Int64\">Int64</th><th title=\"Float64\">Float64</th><th title=\"String\">String</th><th title=\"Int64\">Int64</th></tr></thead><tbody><tr><th>1</th><td>FI</td><td>100</td><td>20</td><td>0.04</td><td>NA</td><td>246750</td></tr><tr><th>2</th><td>FI</td><td>200</td><td>20</td><td>0.16</td><td>NA</td><td>989974</td></tr><tr><th>3</th><td>FI</td><td>300</td><td>20</td><td>0.28</td><td>NA</td><td>2502569</td></tr><tr><th>4</th><td>FI</td><td>400</td><td>20</td><td>0.44</td><td>NA</td><td>3942759</td></tr><tr><th>5</th><td>FI</td><td>500</td><td>20</td><td>0.5</td><td>NA</td><td>6027367</td></tr><tr><th>6</th><td>BI</td><td>100</td><td>20</td><td>0.39</td><td>NA</td><td>220849</td></tr><tr><th>7</th><td>BI</td><td>200</td><td>20</td><td>2.65</td><td>NA</td><td>990059</td></tr><tr><th>8</th><td>BI</td><td>300</td><td>20</td><td>7.36</td><td>NA</td><td>2159316</td></tr><tr><th>9</th><td>BI</td><td>400</td><td>20</td><td>12.41</td><td>NA</td><td>3969037</td></tr><tr><th>10</th><td>BI</td><td>500</td><td>20</td><td>23.4</td><td>NA</td><td>6187550</td></tr></tbody></table></div>"
      ],
      "text/latex": [
       "\\begin{tabular}{r|cccccc}\n",
       "\t& alg & n & no & time & iterations & value\\\\\n",
       "\t\\hline\n",
       "\t& String & Int64 & Int64 & Float64 & String & Int64\\\\\n",
       "\t\\hline\n",
       "\t1 & FI & 100 & 20 & 0.04 & NA & 246750 \\\\\n",
       "\t2 & FI & 200 & 20 & 0.16 & NA & 989974 \\\\\n",
       "\t3 & FI & 300 & 20 & 0.28 & NA & 2502569 \\\\\n",
       "\t4 & FI & 400 & 20 & 0.44 & NA & 3942759 \\\\\n",
       "\t5 & FI & 500 & 20 & 0.5 & NA & 6027367 \\\\\n",
       "\t6 & BI & 100 & 20 & 0.39 & NA & 220849 \\\\\n",
       "\t7 & BI & 200 & 20 & 2.65 & NA & 990059 \\\\\n",
       "\t8 & BI & 300 & 20 & 7.36 & NA & 2159316 \\\\\n",
       "\t9 & BI & 400 & 20 & 12.41 & NA & 3969037 \\\\\n",
       "\t10 & BI & 500 & 20 & 23.4 & NA & 6187550 \\\\\n",
       "\\end{tabular}\n"
      ],
      "text/plain": [
       "\u001b[1m10×6 DataFrame\u001b[0m\n",
       "\u001b[1m Row \u001b[0m│\u001b[1m alg    \u001b[0m\u001b[1m n     \u001b[0m\u001b[1m no    \u001b[0m\u001b[1m time    \u001b[0m\u001b[1m iterations \u001b[0m\u001b[1m value   \u001b[0m\n",
       "\u001b[1m     \u001b[0m│\u001b[90m String \u001b[0m\u001b[90m Int64 \u001b[0m\u001b[90m Int64 \u001b[0m\u001b[90m Float64 \u001b[0m\u001b[90m String     \u001b[0m\u001b[90m Int64   \u001b[0m\n",
       "─────┼────────────────────────────────────────────────────\n",
       "   1 │ FI        100     20     0.04  NA           246750\n",
       "   2 │ FI        200     20     0.16  NA           989974\n",
       "   3 │ FI        300     20     0.28  NA          2502569\n",
       "   4 │ FI        400     20     0.44  NA          3942759\n",
       "   5 │ FI        500     20     0.5   NA          6027367\n",
       "   6 │ BI        100     20     0.39  NA           220849\n",
       "   7 │ BI        200     20     2.65  NA           990059\n",
       "   8 │ BI        300     20     7.36  NA          2159316\n",
       "   9 │ BI        400     20    12.41  NA          3969037\n",
       "  10 │ BI        500     20    23.4   NA          6187550"
      ]
     },
     "execution_count": 326,
     "metadata": {},
     "output_type": "execute_result"
    }
   ],
   "source": [
    "df = DataFrame(NamedTuple{(:alg, :n, :no, :time, :iterations, :value)}.(resultados))"
   ]
  },
  {
   "cell_type": "code",
   "execution_count": 328,
   "id": "4d6faae2",
   "metadata": {},
   "outputs": [
    {
     "data": {
      "text/plain": [
       "\"resultados_tarefa2.csv\""
      ]
     },
     "execution_count": 328,
     "metadata": {},
     "output_type": "execute_result"
    }
   ],
   "source": [
    "CSV.write(\"resultados_tarefa2.csv\", df)"
   ]
  },
  {
   "cell_type": "markdown",
   "id": "b01af935",
   "metadata": {},
   "source": [
    "### Tempo"
   ]
  },
  {
   "cell_type": "markdown",
   "id": "e388d6a9",
   "metadata": {},
   "source": [
    "#### Média"
   ]
  },
  {
   "cell_type": "code",
   "execution_count": 340,
   "id": "18c93a45",
   "metadata": {},
   "outputs": [
    {
     "data": {
      "text/plain": [
       "4.763"
      ]
     },
     "execution_count": 340,
     "metadata": {},
     "output_type": "execute_result"
    }
   ],
   "source": [
    "mean(df.time)"
   ]
  },
  {
   "cell_type": "markdown",
   "id": "067a90cf",
   "metadata": {},
   "source": [
    "#### Desvio padrão"
   ]
  },
  {
   "cell_type": "code",
   "execution_count": 341,
   "id": "93610b61",
   "metadata": {},
   "outputs": [
    {
     "data": {
      "text/plain": [
       "7.721541368866136"
      ]
     },
     "execution_count": 341,
     "metadata": {},
     "output_type": "execute_result"
    }
   ],
   "source": [
    "std(df.time)"
   ]
  },
  {
   "cell_type": "markdown",
   "id": "c0352f2f",
   "metadata": {},
   "source": [
    "### Custo"
   ]
  },
  {
   "cell_type": "markdown",
   "id": "8f2a37c9",
   "metadata": {},
   "source": [
    "#### Média"
   ]
  },
  {
   "cell_type": "code",
   "execution_count": 342,
   "id": "27551fe2",
   "metadata": {},
   "outputs": [
    {
     "data": {
      "text/plain": [
       "2.723623e6"
      ]
     },
     "execution_count": 342,
     "metadata": {},
     "output_type": "execute_result"
    }
   ],
   "source": [
    "mean(df.value)"
   ]
  },
  {
   "cell_type": "markdown",
   "id": "445b6b42",
   "metadata": {},
   "source": [
    "#### Desvio padrão"
   ]
  },
  {
   "cell_type": "code",
   "execution_count": 343,
   "id": "066f65b8",
   "metadata": {},
   "outputs": [
    {
     "data": {
      "text/plain": [
       "2.2292931393013345e6"
      ]
     },
     "execution_count": 343,
     "metadata": {},
     "output_type": "execute_result"
    }
   ],
   "source": [
    "std(df.value)"
   ]
  },
  {
   "cell_type": "code",
   "execution_count": null,
   "id": "939e61e7",
   "metadata": {},
   "outputs": [],
   "source": []
  }
 ],
 "metadata": {
  "kernelspec": {
   "display_name": "Julia 1.7.2",
   "language": "julia",
   "name": "julia-1.7"
  },
  "language_info": {
   "file_extension": ".jl",
   "mimetype": "application/julia",
   "name": "julia",
   "version": "1.7.2"
  }
 },
 "nbformat": 4,
 "nbformat_minor": 5
}
