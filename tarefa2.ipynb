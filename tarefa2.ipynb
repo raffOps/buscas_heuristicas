{
 "cells": [
  {
   "cell_type": "code",
   "execution_count": 7,
   "id": "75f25db3",
   "metadata": {},
   "outputs": [],
   "source": [
    "using Random"
   ]
  },
  {
   "cell_type": "code",
   "execution_count": 19,
   "id": "e4dc7237",
   "metadata": {},
   "outputs": [
    {
     "data": {
      "text/plain": [
       "get_permutacoes (generic function with 1 method)"
      ]
     },
     "execution_count": 19,
     "metadata": {},
     "output_type": "execute_result"
    }
   ],
   "source": [
    "function get_instancia(n)\n",
    "    return rand(1:100, n)\n",
    "end\n",
    "\n",
    "function get_permutacoes(instancia)\n",
    "    return [shuffle(instancia) for _=1:20]\n",
    "end"
   ]
  },
  {
   "cell_type": "code",
   "execution_count": 211,
   "id": "23c51f87",
   "metadata": {},
   "outputs": [
    {
     "data": {
      "text/plain": [
       "get_custo (generic function with 2 methods)"
      ]
     },
     "execution_count": 211,
     "metadata": {},
     "output_type": "execute_result"
    }
   ],
   "source": [
    "function get_custo(instancia, tamanho, custo_total)\n",
    "    if tamanho == 1\n",
    "        return instancia[tamanho], 0\n",
    "    else\n",
    "        espera, custo_total = get_custo(instancia[1:tamanho-1], tamanho-1, custo_total)\n",
    "        custo = instancia[tamanho] + espera\n",
    "        return custo, custo_total + custo\n",
    "    end\n",
    "end"
   ]
  },
  {
   "cell_type": "code",
   "execution_count": 212,
   "id": "d4eab068",
   "metadata": {},
   "outputs": [
    {
     "name": "stdout",
     "output_type": "stream",
     "text": [
      "270955\n",
      "266193\n",
      "259439\n",
      "269147\n",
      "261575\n",
      "256486\n",
      "282666\n",
      "259163\n",
      "262284\n",
      "262428\n",
      "272882\n",
      "267868\n",
      "267884\n",
      "268151\n",
      "264529\n",
      "270346\n",
      "261689\n",
      "264901\n",
      "267847\n",
      "254196\n"
     ]
    }
   ],
   "source": [
    "instancia_inicial = get_instancia(100);\n",
    "permutacoes_iniciais = get_permutacoes(instancia_inicial);\n",
    "for permutacao in permutacoes_iniciais\n",
    "    custos = zeros(0)\n",
    "    _, custo = get_custo(permutacao, 100, 0)\n",
    "    println(custo)\n",
    "end"
   ]
  },
  {
   "cell_type": "code",
   "execution_count": 60,
   "id": "90c5093b",
   "metadata": {},
   "outputs": [
    {
     "data": {
      "text/plain": [
       "10×20 Matrix{Int64}:\n",
       " 32  65   1   1  75  75   1  31  30  …  30  31  32  31  75  58   1  31  57\n",
       " 32  31  30  58  30  65  32  40  30     58  31  40  31  31  58  32  30  32\n",
       " 57  31  31  17  65  58  57  75  32     57  58  75  65  57  65  17  58   1\n",
       " 32  30  31  40  30  30  65  58  58      1  65  30  40  65   1  65  17  30\n",
       " 32   1  58  40  32  57  31  65  30     32  58   1  17  32  30  32  65  31\n",
       " 17  57   1  17  65  17  17  32  17  …  30  65  40  32  57  31  31  32  32\n",
       " 75  30   1  65  31  30  32  30  31     40  65  30  32  17  65  32  30  57\n",
       " 65  57  57  32  17  75   1  40  58     57   1  57  32  40  65  31  65  31\n",
       " 17  31  75  30  57  17   1  31  58     30   1  65  75  57  58  30  58  58\n",
       " 30  75  57  65  17  75  58  17   1     58  30  65   1  30  17  40  40  31"
      ]
     },
     "execution_count": 60,
     "metadata": {},
     "output_type": "execute_result"
    }
   ],
   "source": [
    "permutacoes"
   ]
  },
  {
   "cell_type": "code",
   "execution_count": null,
   "id": "45436558",
   "metadata": {},
   "outputs": [],
   "source": []
  }
 ],
 "metadata": {
  "kernelspec": {
   "display_name": "Julia 1.7.2",
   "language": "julia",
   "name": "julia-1.7"
  },
  "language_info": {
   "file_extension": ".jl",
   "mimetype": "application/julia",
   "name": "julia",
   "version": "1.7.2"
  }
 },
 "nbformat": 4,
 "nbformat_minor": 5
}
