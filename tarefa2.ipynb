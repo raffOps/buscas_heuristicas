{
 "cells": [
  {
   "cell_type": "code",
   "execution_count": 1,
   "id": "9a23bed7",
   "metadata": {},
   "outputs": [
    {
     "name": "stderr",
     "output_type": "stream",
     "text": [
      "\u001b[32m\u001b[1m    Updating\u001b[22m\u001b[39m registry at `/opt/julia/registries/General.toml`\n",
      "\u001b[32m\u001b[1m   Resolving\u001b[22m\u001b[39m package versions...\n",
      "\u001b[32m\u001b[1m  No Changes\u001b[22m\u001b[39m to `/opt/julia/environments/v1.7/Project.toml`\n",
      "\u001b[32m\u001b[1m  No Changes\u001b[22m\u001b[39m to `/opt/julia/environments/v1.7/Manifest.toml`\n",
      "\u001b[32m\u001b[1m   Resolving\u001b[22m\u001b[39m package versions...\n",
      "\u001b[32m\u001b[1m  No Changes\u001b[22m\u001b[39m to `/opt/julia/environments/v1.7/Project.toml`\n",
      "\u001b[32m\u001b[1m  No Changes\u001b[22m\u001b[39m to `/opt/julia/environments/v1.7/Manifest.toml`\n",
      "\u001b[32m\u001b[1m   Resolving\u001b[22m\u001b[39m package versions...\n",
      "\u001b[32m\u001b[1m  No Changes\u001b[22m\u001b[39m to `/opt/julia/environments/v1.7/Project.toml`\n",
      "\u001b[32m\u001b[1m  No Changes\u001b[22m\u001b[39m to `/opt/julia/environments/v1.7/Manifest.toml`\n"
     ]
    }
   ],
   "source": [
    "using Pkg\n",
    "Pkg.add(\"DataFrames\")\n",
    "Pkg.add(\"CSV\")\n",
    "Pkg.add(\"TickTock\")"
   ]
  },
  {
   "cell_type": "code",
   "execution_count": 2,
   "id": "75f25db3",
   "metadata": {},
   "outputs": [],
   "source": [
    "using Random\n",
    "using DataFrames\n",
    "using Statistics\n",
    "using CSV\n",
    "using TickTock"
   ]
  },
  {
   "cell_type": "code",
   "execution_count": 3,
   "id": "e4dc7237",
   "metadata": {},
   "outputs": [
    {
     "data": {
      "text/plain": [
       "get_permutacoes (generic function with 1 method)"
      ]
     },
     "execution_count": 3,
     "metadata": {},
     "output_type": "execute_result"
    }
   ],
   "source": [
    "function get_instancia(n)\n",
    "    return rand(1:100, n)\n",
    "end\n",
    "\n",
    "function get_permutacoes(instancia)\n",
    "    return [shuffle(instancia) for _=1:20]\n",
    "end"
   ]
  },
  {
   "cell_type": "code",
   "execution_count": 4,
   "id": "238365be",
   "metadata": {},
   "outputs": [
    {
     "data": {
      "text/plain": [
       "get_vizinhos_one_flip (generic function with 1 method)"
      ]
     },
     "execution_count": 4,
     "metadata": {},
     "output_type": "execute_result"
    }
   ],
   "source": [
    "function get_custo(instancia, tamanho, custo_total)\n",
    "    if tamanho == 1\n",
    "        return instancia[tamanho], 0\n",
    "    else\n",
    "        espera, custo_total = get_custo(instancia[1:tamanho-1], tamanho-1, custo_total)\n",
    "        custo = instancia[tamanho] + espera\n",
    "        return custo, custo_total + custo\n",
    "    end\n",
    "end\n",
    "\n",
    "function get_vizinhos_one_flip(solucao, tamanho)\n",
    "    vizinhos = Vector()\n",
    "    for indice in 1:tamanho-1\n",
    "        vizinho = copy(solucao)\n",
    "        vizinho[indice], vizinho[indice+1] = solucao[indice+1], solucao[indice]\n",
    "        push!(vizinhos, vizinho)\n",
    "    end\n",
    "    vizinho = copy(solucao)\n",
    "    vizinho[1], vizinho[tamanho] = solucao[tamanho], solucao[1]\n",
    "    push!(vizinhos, vizinho)\n",
    "    return vizinhos\n",
    "end"
   ]
  },
  {
   "cell_type": "code",
   "execution_count": 5,
   "id": "1f739d87",
   "metadata": {},
   "outputs": [
    {
     "data": {
      "text/plain": [
       "get_melhor_vizinho (generic function with 1 method)"
      ]
     },
     "execution_count": 5,
     "metadata": {},
     "output_type": "execute_result"
    }
   ],
   "source": [
    "function get_melhor_vizinho(vizinhos, is_first_improved, menor_custo, melhor_solucao, tamanho)\n",
    "    for vizinho in vizinhos\n",
    "        _, custo = get_custo(vizinho, tamanho, 0)\n",
    "        if custo < menor_custo\n",
    "            menor_custo = custo\n",
    "            melhor_solucao = vizinho\n",
    "            if is_first_improved\n",
    "                break\n",
    "            end\n",
    "        end\n",
    "    end\n",
    "    return melhor_solucao, menor_custo\n",
    "end"
   ]
  },
  {
   "cell_type": "markdown",
   "id": "c6144d33",
   "metadata": {},
   "source": [
    "### 2-a"
   ]
  },
  {
   "cell_type": "code",
   "execution_count": 6,
   "id": "d4eab068",
   "metadata": {},
   "outputs": [
    {
     "name": "stderr",
     "output_type": "stream",
     "text": [
      "┌ Info:  started timer at: 2022-03-02T19:09:10.517\n",
      "└ @ TickTock /opt/julia/packages/TickTock/RsTHR/src/TickTock.jl:32\n",
      "┌ Info:  started timer at: 2022-03-02T19:09:10.758\n",
      "└ @ TickTock /opt/julia/packages/TickTock/RsTHR/src/TickTock.jl:32\n",
      "┌ Info:  started timer at: 2022-03-02T19:09:10.978\n",
      "└ @ TickTock /opt/julia/packages/TickTock/RsTHR/src/TickTock.jl:32\n",
      "┌ Info:  started timer at: 2022-03-02T19:09:11.337\n",
      "└ @ TickTock /opt/julia/packages/TickTock/RsTHR/src/TickTock.jl:32\n",
      "┌ Info:  started timer at: 2022-03-02T19:09:11.735\n",
      "└ @ TickTock /opt/julia/packages/TickTock/RsTHR/src/TickTock.jl:32\n",
      "┌ Info:  started timer at: 2022-03-02T19:09:12.377\n",
      "└ @ TickTock /opt/julia/packages/TickTock/RsTHR/src/TickTock.jl:32\n",
      "┌ Info:  started timer at: 2022-03-02T19:09:12.724\n",
      "└ @ TickTock /opt/julia/packages/TickTock/RsTHR/src/TickTock.jl:32\n",
      "┌ Info:  started timer at: 2022-03-02T19:09:15.620\n",
      "└ @ TickTock /opt/julia/packages/TickTock/RsTHR/src/TickTock.jl:32\n",
      "┌ Info:  started timer at: 2022-03-02T19:09:23.700\n",
      "└ @ TickTock /opt/julia/packages/TickTock/RsTHR/src/TickTock.jl:32\n",
      "┌ Info:  started timer at: 2022-03-02T19:09:35.383\n",
      "└ @ TickTock /opt/julia/packages/TickTock/RsTHR/src/TickTock.jl:32\n"
     ]
    }
   ],
   "source": [
    "resultados = []\n",
    "for is_first_improved in [true, false]\n",
    "    if is_first_improved\n",
    "        alg = \"FI\"\n",
    "    else\n",
    "        alg = \"BI\"\n",
    "    end\n",
    "    for n in [100, 200, 300, 400, 500]\n",
    "        tick()\n",
    "        instancia_inicial = get_instancia(n)\n",
    "        permutacoes_iniciais = get_permutacoes(instancia_inicial)\n",
    "        solucao_inicial = Nothing\n",
    "        menor_custo = 99999999999\n",
    "        solucao_inicial, menor_custo = get_melhor_vizinho(permutacoes_iniciais, is_first_improved, \n",
    "                                        menor_custo, solucao_inicial, n)\n",
    "        solucao = solucao_inicial\n",
    "        for iteracao in 1:100\n",
    "            vizinhos = get_vizinhos_one_flip(solucao, n)\n",
    "            solucao, menor_custo = get_melhor_vizinho(vizinhos, is_first_improved, menor_custo, solucao, n)\n",
    "        end\n",
    "        tempo = tok()\n",
    "        push!(resultados, tuple(alg, n, 20, round(tempo, digits=2), \"NA\", menor_custo))\n",
    "    end\n",
    "end"
   ]
  },
  {
   "cell_type": "code",
   "execution_count": 7,
   "id": "4e922346",
   "metadata": {},
   "outputs": [
    {
     "data": {
      "text/html": [
       "<div class=\"data-frame\"><p>10 rows × 6 columns</p><table class=\"data-frame\"><thead><tr><th></th><th>alg</th><th>n</th><th>no</th><th>time</th><th>iterations</th><th>value</th></tr><tr><th></th><th title=\"String\">String</th><th title=\"Int64\">Int64</th><th title=\"Int64\">Int64</th><th title=\"Float64\">Float64</th><th title=\"String\">String</th><th title=\"Int64\">Int64</th></tr></thead><tbody><tr><th>1</th><td>FI</td><td>100</td><td>20</td><td>0.25</td><td>NA</td><td>270359</td></tr><tr><th>2</th><td>FI</td><td>200</td><td>20</td><td>0.22</td><td>NA</td><td>1037021</td></tr><tr><th>3</th><td>FI</td><td>300</td><td>20</td><td>0.36</td><td>NA</td><td>2191434</td></tr><tr><th>4</th><td>FI</td><td>400</td><td>20</td><td>0.4</td><td>NA</td><td>3787486</td></tr><tr><th>5</th><td>FI</td><td>500</td><td>20</td><td>0.64</td><td>NA</td><td>6471495</td></tr><tr><th>6</th><td>BI</td><td>100</td><td>20</td><td>0.35</td><td>NA</td><td>211622</td></tr><tr><th>7</th><td>BI</td><td>200</td><td>20</td><td>2.9</td><td>NA</td><td>917386</td></tr><tr><th>8</th><td>BI</td><td>300</td><td>20</td><td>8.08</td><td>NA</td><td>2153319</td></tr><tr><th>9</th><td>BI</td><td>400</td><td>20</td><td>11.68</td><td>NA</td><td>3913652</td></tr><tr><th>10</th><td>BI</td><td>500</td><td>20</td><td>17.74</td><td>NA</td><td>6099485</td></tr></tbody></table></div>"
      ],
      "text/latex": [
       "\\begin{tabular}{r|cccccc}\n",
       "\t& alg & n & no & time & iterations & value\\\\\n",
       "\t\\hline\n",
       "\t& String & Int64 & Int64 & Float64 & String & Int64\\\\\n",
       "\t\\hline\n",
       "\t1 & FI & 100 & 20 & 0.25 & NA & 270359 \\\\\n",
       "\t2 & FI & 200 & 20 & 0.22 & NA & 1037021 \\\\\n",
       "\t3 & FI & 300 & 20 & 0.36 & NA & 2191434 \\\\\n",
       "\t4 & FI & 400 & 20 & 0.4 & NA & 3787486 \\\\\n",
       "\t5 & FI & 500 & 20 & 0.64 & NA & 6471495 \\\\\n",
       "\t6 & BI & 100 & 20 & 0.35 & NA & 211622 \\\\\n",
       "\t7 & BI & 200 & 20 & 2.9 & NA & 917386 \\\\\n",
       "\t8 & BI & 300 & 20 & 8.08 & NA & 2153319 \\\\\n",
       "\t9 & BI & 400 & 20 & 11.68 & NA & 3913652 \\\\\n",
       "\t10 & BI & 500 & 20 & 17.74 & NA & 6099485 \\\\\n",
       "\\end{tabular}\n"
      ],
      "text/plain": [
       "\u001b[1m10×6 DataFrame\u001b[0m\n",
       "\u001b[1m Row \u001b[0m│\u001b[1m alg    \u001b[0m\u001b[1m n     \u001b[0m\u001b[1m no    \u001b[0m\u001b[1m time    \u001b[0m\u001b[1m iterations \u001b[0m\u001b[1m value   \u001b[0m\n",
       "\u001b[1m     \u001b[0m│\u001b[90m String \u001b[0m\u001b[90m Int64 \u001b[0m\u001b[90m Int64 \u001b[0m\u001b[90m Float64 \u001b[0m\u001b[90m String     \u001b[0m\u001b[90m Int64   \u001b[0m\n",
       "─────┼────────────────────────────────────────────────────\n",
       "   1 │ FI        100     20     0.25  NA           270359\n",
       "   2 │ FI        200     20     0.22  NA          1037021\n",
       "   3 │ FI        300     20     0.36  NA          2191434\n",
       "   4 │ FI        400     20     0.4   NA          3787486\n",
       "   5 │ FI        500     20     0.64  NA          6471495\n",
       "   6 │ BI        100     20     0.35  NA           211622\n",
       "   7 │ BI        200     20     2.9   NA           917386\n",
       "   8 │ BI        300     20     8.08  NA          2153319\n",
       "   9 │ BI        400     20    11.68  NA          3913652\n",
       "  10 │ BI        500     20    17.74  NA          6099485"
      ]
     },
     "execution_count": 7,
     "metadata": {},
     "output_type": "execute_result"
    }
   ],
   "source": [
    "df = DataFrame(NamedTuple{(:alg, :n, :no, :time, :iterations, :value)}.(resultados))"
   ]
  },
  {
   "cell_type": "code",
   "execution_count": 8,
   "id": "5e1b1ca2",
   "metadata": {},
   "outputs": [
    {
     "data": {
      "text/plain": [
       "\"resultados_tarefa2.csv\""
      ]
     },
     "execution_count": 8,
     "metadata": {},
     "output_type": "execute_result"
    }
   ],
   "source": [
    "CSV.write(\"resultados_tarefa2.csv\", df)"
   ]
  },
  {
   "cell_type": "markdown",
   "id": "9f20353e",
   "metadata": {},
   "source": [
    "#### Média e desvio padrão de tempo e custo em função da estratégia de busca local"
   ]
  },
  {
   "cell_type": "code",
   "execution_count": 9,
   "id": "6707d58e",
   "metadata": {},
   "outputs": [
    {
     "data": {
      "text/html": [
       "<div class=\"data-frame\"><p>2 rows × 5 columns</p><table class=\"data-frame\"><thead><tr><th></th><th>alg</th><th>time_mean</th><th>time_std</th><th>value_mean</th><th>value_std</th></tr><tr><th></th><th title=\"String\">String</th><th title=\"Float64\">Float64</th><th title=\"Float64\">Float64</th><th title=\"Float64\">Float64</th><th title=\"Float64\">Float64</th></tr></thead><tbody><tr><th>1</th><td>FI</td><td>0.374</td><td>0.166373</td><td>2.75156e6</td><td>2.46581e6</td></tr><tr><th>2</th><td>BI</td><td>8.15</td><td>6.94328</td><td>2.65909e6</td><td>2.38168e6</td></tr></tbody></table></div>"
      ],
      "text/latex": [
       "\\begin{tabular}{r|ccccc}\n",
       "\t& alg & time\\_mean & time\\_std & value\\_mean & value\\_std\\\\\n",
       "\t\\hline\n",
       "\t& String & Float64 & Float64 & Float64 & Float64\\\\\n",
       "\t\\hline\n",
       "\t1 & FI & 0.374 & 0.166373 & 2.75156e6 & 2.46581e6 \\\\\n",
       "\t2 & BI & 8.15 & 6.94328 & 2.65909e6 & 2.38168e6 \\\\\n",
       "\\end{tabular}\n"
      ],
      "text/plain": [
       "\u001b[1m2×5 DataFrame\u001b[0m\n",
       "\u001b[1m Row \u001b[0m│\u001b[1m alg    \u001b[0m\u001b[1m time_mean \u001b[0m\u001b[1m time_std \u001b[0m\u001b[1m value_mean \u001b[0m\u001b[1m value_std \u001b[0m\n",
       "\u001b[1m     \u001b[0m│\u001b[90m String \u001b[0m\u001b[90m Float64   \u001b[0m\u001b[90m Float64  \u001b[0m\u001b[90m Float64    \u001b[0m\u001b[90m Float64   \u001b[0m\n",
       "─────┼────────────────────────────────────────────────────\n",
       "   1 │ FI          0.374  0.166373   2.75156e6  2.46581e6\n",
       "   2 │ BI          8.15   6.94328    2.65909e6  2.38168e6"
      ]
     },
     "execution_count": 9,
     "metadata": {},
     "output_type": "execute_result"
    }
   ],
   "source": [
    "combine(groupby(df, \"alg\"), [:time => mean, :time => std, :value => mean, :value => std])"
   ]
  },
  {
   "cell_type": "markdown",
   "id": "169d1c81",
   "metadata": {},
   "source": []
  }
 ],
 "metadata": {
  "kernelspec": {
   "display_name": "Julia 1.7.2",
   "language": "julia",
   "name": "julia-1.7"
  },
  "language_info": {
   "file_extension": ".jl",
   "mimetype": "application/julia",
   "name": "julia",
   "version": "1.7.2"
  }
 },
 "nbformat": 4,
 "nbformat_minor": 5
}
