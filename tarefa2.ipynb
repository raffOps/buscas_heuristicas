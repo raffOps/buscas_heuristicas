{
 "cells": [
  {
   "cell_type": "code",
   "execution_count": 8,
   "id": "75f25db3",
   "metadata": {},
   "outputs": [],
   "source": [
    "using Random"
   ]
  },
  {
   "cell_type": "code",
   "execution_count": 12,
   "id": "e4dc7237",
   "metadata": {},
   "outputs": [
    {
     "data": {
      "text/plain": [
       "get_permutacoes (generic function with 1 method)"
      ]
     },
     "execution_count": 12,
     "metadata": {},
     "output_type": "execute_result"
    }
   ],
   "source": [
    "function get_instancia(n)\n",
    "    return rand(1:100, n)\n",
    "end\n",
    "\n",
    "function get_permutacoes(instancia)\n",
    "    return [shuffle(instancia) for _=1:20]\n",
    "end"
   ]
  },
  {
   "cell_type": "code",
   "execution_count": 16,
   "id": "8962ff86",
   "metadata": {},
   "outputs": [
    {
     "data": {
      "text/plain": [
       "get_custo (generic function with 1 method)"
      ]
     },
     "execution_count": 16,
     "metadata": {},
     "output_type": "execute_result"
    }
   ],
   "source": [
    "function get_custo(instancia, tamanho)\n",
    "    if tamanho == 1\n",
    "        return instancia[1]\n",
    "    else\n",
    "        return instancia[tamanho] + get_custo(instancia[1:tamanho], tamanho-1)\n",
    "    end\n",
    "end"
   ]
  },
  {
   "cell_type": "code",
   "execution_count": 13,
   "id": "c0e18deb",
   "metadata": {},
   "outputs": [
    {
     "data": {
      "text/plain": [
       "10-element Vector{Int64}:\n",
       "  26\n",
       "  93\n",
       " 100\n",
       "  41\n",
       "  61\n",
       "  83\n",
       "  62\n",
       "  11\n",
       "  19\n",
       "  59"
      ]
     },
     "execution_count": 13,
     "metadata": {},
     "output_type": "execute_result"
    }
   ],
   "source": [
    "instancia = get_instancia(10)"
   ]
  },
  {
   "cell_type": "code",
   "execution_count": 14,
   "id": "e77ec3a7",
   "metadata": {},
   "outputs": [
    {
     "data": {
      "text/plain": [
       "20-element Vector{Vector{Int64}}:\n",
       " [61, 19, 100, 93, 59, 11, 62, 41, 26, 83]\n",
       " [41, 19, 61, 93, 83, 11, 62, 59, 100, 26]\n",
       " [59, 11, 83, 26, 62, 61, 19, 41, 100, 93]\n",
       " [11, 19, 61, 41, 62, 93, 83, 100, 59, 26]\n",
       " [61, 59, 26, 93, 62, 11, 83, 41, 19, 100]\n",
       " [100, 83, 26, 41, 62, 11, 19, 59, 93, 61]\n",
       " [19, 93, 11, 41, 62, 59, 83, 26, 100, 61]\n",
       " [59, 62, 41, 83, 26, 93, 19, 11, 100, 61]\n",
       " [11, 83, 61, 26, 93, 19, 62, 100, 59, 41]\n",
       " [83, 100, 59, 19, 11, 62, 26, 61, 93, 41]\n",
       " [59, 41, 100, 93, 11, 26, 19, 61, 62, 83]\n",
       " [61, 83, 11, 62, 93, 59, 19, 41, 26, 100]\n",
       " [41, 61, 59, 19, 62, 26, 11, 83, 100, 93]\n",
       " [100, 26, 41, 11, 59, 83, 62, 93, 61, 19]\n",
       " [26, 100, 93, 19, 41, 62, 61, 11, 83, 59]\n",
       " [61, 26, 11, 41, 62, 93, 59, 19, 83, 100]\n",
       " [59, 62, 61, 19, 26, 11, 93, 100, 41, 83]\n",
       " [83, 62, 26, 59, 41, 19, 100, 11, 61, 93]\n",
       " [26, 100, 11, 19, 59, 83, 41, 61, 93, 62]\n",
       " [61, 59, 11, 83, 26, 41, 93, 100, 62, 19]"
      ]
     },
     "execution_count": 14,
     "metadata": {},
     "output_type": "execute_result"
    }
   ],
   "source": [
    "permutacoes = get_permutacoes(instancia)"
   ]
  },
  {
   "cell_type": "code",
   "execution_count": 17,
   "id": "d4eab068",
   "metadata": {},
   "outputs": [
    {
     "name": "stdout",
     "output_type": "stream",
     "text": [
      "555\n",
      "555\n",
      "555\n",
      "555\n",
      "555\n",
      "555\n",
      "555\n",
      "555\n",
      "555\n",
      "555\n",
      "555\n",
      "555\n",
      "555\n",
      "555\n",
      "555\n",
      "555\n",
      "555\n",
      "555\n",
      "555\n",
      "555\n"
     ]
    }
   ],
   "source": [
    "for permutacao in permutacoes\n",
    "    println(get_custo(permutacao, 10))\n",
    "end"
   ]
  },
  {
   "cell_type": "code",
   "execution_count": 60,
   "id": "90c5093b",
   "metadata": {},
   "outputs": [
    {
     "data": {
      "text/plain": [
       "10×20 Matrix{Int64}:\n",
       " 32  65   1   1  75  75   1  31  30  …  30  31  32  31  75  58   1  31  57\n",
       " 32  31  30  58  30  65  32  40  30     58  31  40  31  31  58  32  30  32\n",
       " 57  31  31  17  65  58  57  75  32     57  58  75  65  57  65  17  58   1\n",
       " 32  30  31  40  30  30  65  58  58      1  65  30  40  65   1  65  17  30\n",
       " 32   1  58  40  32  57  31  65  30     32  58   1  17  32  30  32  65  31\n",
       " 17  57   1  17  65  17  17  32  17  …  30  65  40  32  57  31  31  32  32\n",
       " 75  30   1  65  31  30  32  30  31     40  65  30  32  17  65  32  30  57\n",
       " 65  57  57  32  17  75   1  40  58     57   1  57  32  40  65  31  65  31\n",
       " 17  31  75  30  57  17   1  31  58     30   1  65  75  57  58  30  58  58\n",
       " 30  75  57  65  17  75  58  17   1     58  30  65   1  30  17  40  40  31"
      ]
     },
     "execution_count": 60,
     "metadata": {},
     "output_type": "execute_result"
    }
   ],
   "source": [
    "permutacoes"
   ]
  },
  {
   "cell_type": "code",
   "execution_count": null,
   "id": "45436558",
   "metadata": {},
   "outputs": [],
   "source": []
  }
 ],
 "metadata": {
  "kernelspec": {
   "display_name": "Julia 1.7.2",
   "language": "julia",
   "name": "julia-1.7"
  },
  "language_info": {
   "file_extension": ".jl",
   "mimetype": "application/julia",
   "name": "julia",
   "version": "1.7.2"
  }
 },
 "nbformat": 4,
 "nbformat_minor": 5
}
