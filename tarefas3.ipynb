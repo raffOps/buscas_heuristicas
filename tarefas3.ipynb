{
 "cells": [
  {
   "cell_type": "code",
   "execution_count": 1,
   "id": "9e095f82",
   "metadata": {},
   "outputs": [],
   "source": [
    "using DelimitedFiles"
   ]
  },
  {
   "cell_type": "code",
   "execution_count": 6,
   "id": "eaba15d3",
   "metadata": {},
   "outputs": [
    {
     "data": {
      "text/plain": [
       "get_vizinhos_one_flip (generic function with 1 method)"
      ]
     },
     "execution_count": 6,
     "metadata": {},
     "output_type": "execute_result"
    }
   ],
   "source": [
    "\n",
    "\n",
    "function get_vizinhos_one_flip(solucao, tamanho)\n",
    "    vizinhos = Vector()\n",
    "    for indice in 1:tamanho-1\n",
    "        vizinho = copy(solucao)\n",
    "        vizinho[indice], vizinho[indice+1] = solucao[indice+1], solucao[indice]\n",
    "        push!(vizinhos, vizinho)\n",
    "    end\n",
    "    vizinho = copy(solucao)\n",
    "    vizinho[1], vizinho[tamanho] = solucao[tamanho], solucao[1]\n",
    "    push!(vizinhos, vizinho)\n",
    "    return vizinhos\n",
    "end"
   ]
  },
  {
   "cell_type": "code",
   "execution_count": 7,
   "id": "117bced2",
   "metadata": {},
   "outputs": [
    {
     "data": {
      "text/plain": [
       "get_melhor_vizinho (generic function with 1 method)"
      ]
     },
     "execution_count": 7,
     "metadata": {},
     "output_type": "execute_result"
    }
   ],
   "source": [
    "function get_melhor_vizinho(vizinhos, is_first_improved, menor_custo, melhor_solucao, tamanho)\n",
    "    for vizinho in vizinhos\n",
    "        _, custo = get_custo(vizinho, tamanho, 0)\n",
    "        if custo < menor_custo\n",
    "            menor_custo = custo\n",
    "            melhor_solucao = vizinho\n",
    "            if is_first_improved\n",
    "                break\n",
    "            end\n",
    "        end\n",
    "    end\n",
    "    return melhor_solucao, menor_custo\n",
    "end"
   ]
  },
  {
   "cell_type": "code",
   "execution_count": 5,
   "id": "d959a6ca",
   "metadata": {},
   "outputs": [
    {
     "data": {
      "text/plain": [
       "20×10 Matrix{Int64}:\n",
       " 0  54  1  79  2  16  3  66  4  58\n",
       " 0  83  1   3  2  89  3  58  4  56\n",
       " 0  15  1  11  2  49  3  31  4  20\n",
       " 0  71  1  99  2  15  3  68  4  85\n",
       " 0  77  1  56  2  89  3  78  4  53\n",
       " 0  36  1  70  2  45  3  91  4  35\n",
       " 0  53  1  99  2  60  3  13  4  53\n",
       " 0  38  1  60  2  23  3  59  4  41\n",
       " 0  27  1   5  2  57  3  49  4  69\n",
       " 0  87  1  56  2  64  3  85  4  13\n",
       " 0  76  1   3  2   7  3  85  4  86\n",
       " 0  91  1  61  2   1  3   9  4  72\n",
       " 0  14  1  73  2  63  3  39  4   8\n",
       " 0  29  1  75  2  41  3  41  4  49\n",
       " 0  12  1  47  2  63  3  56  4  47\n",
       " 0  77  1  14  2  47  3  40  4  87\n",
       " 0  32  1  21  2  26  3  54  4  58\n",
       " 0  87  1  86  2  75  3  77  4  18\n",
       " 0  68  1   5  2  77  3  51  4  68\n",
       " 0  94  1  77  2  40  3  31  4  28"
      ]
     },
     "execution_count": 5,
     "metadata": {},
     "output_type": "execute_result"
    }
   ],
   "source": [
    "instancia = readdlm(\"pfssp/data/fs/ta001\", Int, skipstart=1)"
   ]
  },
  {
   "cell_type": "code",
   "execution_count": 35,
   "id": "36766002",
   "metadata": {},
   "outputs": [
    {
     "data": {
      "text/plain": [
       "20×5 Matrix{Int64}:\n",
       " 54  79  16  66  58\n",
       " 83   3  89  58  56\n",
       " 15  11  49  31  20\n",
       " 71  99  15  68  85\n",
       " 77  56  89  78  53\n",
       " 36  70  45  91  35\n",
       " 53  99  60  13  53\n",
       " 38  60  23  59  41\n",
       " 27   5  57  49  69\n",
       " 87  56  64  85  13\n",
       " 76   3   7  85  86\n",
       " 91  61   1   9  72\n",
       " 14  73  63  39   8\n",
       " 29  75  41  41  49\n",
       " 12  47  63  56  47\n",
       " 77  14  47  40  87\n",
       " 32  21  26  54  58\n",
       " 87  86  75  77  18\n",
       " 68   5  77  51  68\n",
       " 94  77  40  31  28"
      ]
     },
     "execution_count": 35,
     "metadata": {},
     "output_type": "execute_result"
    }
   ],
   "source": [
    "instancia[:, setdiff(1:end, [column for column in 1:size(instancia)[2] if (column % 2) == 1])]"
   ]
  },
  {
   "cell_type": "code",
   "execution_count": 24,
   "id": "5aa3c542",
   "metadata": {},
   "outputs": [
    {
     "name": "stdout",
     "output_type": "stream",
     "text": [
      "[0, 0, 0, 0, 0, 0, 0, 0, 0, 0, 0, 0, 0, 0, 0, 0, 0, 0, 0, 0]\n",
      "[54, 83, 15, 71, 77, 36, 53, 38, 27, 87, 76, 91, 14, 29, 12, 77, 32, 87, 68, 94]\n",
      "[1, 1, 1, 1, 1, 1, 1, 1, 1, 1, 1, 1, 1, 1, 1, 1, 1, 1, 1, 1]\n",
      "[79, 3, 11, 99, 56, 70, 99, 60, 5, 56, 3, 61, 73, 75, 47, 14, 21, 86, 5, 77]\n",
      "[2, 2, 2, 2, 2, 2, 2, 2, 2, 2, 2, 2, 2, 2, 2, 2, 2, 2, 2, 2]\n",
      "[16, 89, 49, 15, 89, 45, 60, 23, 57, 64, 7, 1, 63, 41, 63, 47, 26, 75, 77, 40]\n",
      "[3, 3, 3, 3, 3, 3, 3, 3, 3, 3, 3, 3, 3, 3, 3, 3, 3, 3, 3, 3]\n",
      "[66, 58, 31, 68, 78, 91, 13, 59, 49, 85, 85, 9, 39, 41, 56, 40, 54, 77, 51, 31]\n",
      "[4, 4, 4, 4, 4, 4, 4, 4, 4, 4, 4, 4, 4, 4, 4, 4, 4, 4, 4, 4]\n",
      "[58, 56, 20, 85, 53, 35, 53, 41, 69, 13, 86, 72, 8, 49, 47, 87, 58, 18, 68, 28]\n"
     ]
    }
   ],
   "source": [
    "for linha in eachcol(instancia)\n",
    "    println(linha)\n",
    "end"
   ]
  },
  {
   "cell_type": "code",
   "execution_count": 13,
   "id": "3fd90da4",
   "metadata": {},
   "outputs": [
    {
     "data": {
      "text/plain": [
       "(20, 10)"
      ]
     },
     "execution_count": 13,
     "metadata": {},
     "output_type": "execute_result"
    }
   ],
   "source": [
    "tamanho = size(instancia)"
   ]
  },
  {
   "cell_type": "code",
   "execution_count": null,
   "id": "5434f19e",
   "metadata": {},
   "outputs": [],
   "source": [
    "matrix_custo = zeros(Int, tamanho)"
   ]
  },
  {
   "cell_type": "code",
   "execution_count": 19,
   "id": "8a5022f9",
   "metadata": {},
   "outputs": [],
   "source": [
    "matrix_custo = zeros(Int, tamanho)\n",
    "for linha in 2:tamanho[1]\n",
    "    for coluna in 2:tamanho[2]\n",
    "        matrix_custo[linha, coluna] = instancia[linha, coluna] + max(matrix_custo[linha-1, coluna], matrix_custo[linha, coluna-1])\n",
    "    end\n",
    "end"
   ]
  },
  {
   "cell_type": "code",
   "execution_count": 20,
   "id": "cb2f5f69",
   "metadata": {},
   "outputs": [
    {
     "data": {
      "text/plain": [
       "20×10 Matrix{Int64}:\n",
       " 0     0     0     0     0     0     0     0     0     0\n",
       " 0    83    84    87    89   178   181   239   243   299\n",
       " 0    98    99   110   112   227   230   270   274   319\n",
       " 0   169   170   269   271   286   289   357   361   446\n",
       " 0   246   247   325   327   416   419   497   501   554\n",
       " 0   282   283   395   397   461   464   588   592   627\n",
       " 0   335   336   494   496   556   559   601   605   680\n",
       " 0   373   374   554   556   579   582   660   664   721\n",
       " 0   400   401   559   561   636   639   709   713   790\n",
       " 0   487   488   615   617   700   703   794   798   811\n",
       " 0   563   564   618   620   707   710   879   883   969\n",
       " 0   654   655   716   718   719   722   888   892  1041\n",
       " 0   668   669   789   791   854   857   927   931  1049\n",
       " 0   697   698   864   866   907   910   968   972  1098\n",
       " 0   709   710   911   913   976   979  1035  1039  1145\n",
       " 0   786   787   925   927  1023  1026  1075  1079  1232\n",
       " 0   818   819   946   948  1049  1052  1129  1133  1290\n",
       " 0   905   906  1032  1034  1124  1127  1206  1210  1308\n",
       " 0   973   974  1037  1039  1201  1204  1257  1261  1376\n",
       " 0  1067  1068  1145  1147  1241  1244  1288  1292  1404"
      ]
     },
     "execution_count": 20,
     "metadata": {},
     "output_type": "execute_result"
    }
   ],
   "source": [
    "matrix_custo"
   ]
  },
  {
   "cell_type": "code",
   "execution_count": null,
   "id": "f8bcf659",
   "metadata": {},
   "outputs": [],
   "source": []
  }
 ],
 "metadata": {
  "kernelspec": {
   "display_name": "Julia 1.7.2",
   "language": "julia",
   "name": "julia-1.7"
  },
  "language_info": {
   "file_extension": ".jl",
   "mimetype": "application/julia",
   "name": "julia",
   "version": "1.7.2"
  }
 },
 "nbformat": 4,
 "nbformat_minor": 5
}
